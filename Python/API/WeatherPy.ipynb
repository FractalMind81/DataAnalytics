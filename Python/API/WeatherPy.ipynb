{
 "cells": [
  {
   "cell_type": "code",
   "execution_count": 1,
   "metadata": {
    "scrolled": true
   },
   "outputs": [],
   "source": [
    "# Dependencies and Setup\n",
    "import matplotlib.pyplot as plt\n",
    "import pandas as pd\n",
    "import numpy as np\n",
    "import requests\n",
    "import time\n",
    "import json\n",
    "\n",
    "# Import API key\n",
    "import api_keys\n",
    "\n",
    "# Incorporated citipy to determine city based on latitude and longitude\n",
    "from citipy import citipy\n",
    "\n",
    "# Output File (CSV)\n",
    "output_data_file = \"output_data/cities.csv\"\n",
    "\n",
    "# Range of latitudes and longitudes\n",
    "lat_range = (-90, 90)\n",
    "lng_range = (-180, 180)"
   ]
  },
  {
   "cell_type": "markdown",
   "metadata": {},
   "source": [
    "## Generate Cities List"
   ]
  },
  {
   "cell_type": "code",
   "execution_count": 10,
   "metadata": {},
   "outputs": [
    {
     "name": "stdout",
     "output_type": "stream",
     "text": [
      "hobart\n"
     ]
    }
   ],
   "source": [
    "# List for holding lat_lngs and cities\n",
    "lat_lngs = []\n",
    "cities = []\n",
    "\n",
    "# Create a set of random lat and lng combinations\n",
    "lats = np.random.uniform(low=-90.000, high=90.000, size=1500)\n",
    "lngs = np.random.uniform(low=-180.000, high=180.000, size=1500)\n",
    "lat_lngs = zip(lats, lngs)\n",
    "\n",
    "# Identify nearest city for each lat, lng combination\n",
    "for lat_lng in lat_lngs:\n",
    "    city = citipy.nearest_city(lat_lng[0], lat_lng[1]).city_name\n",
    "    \n",
    "    # If the city is unique, then add it to a our cities list\n",
    "    if city not in cities:\n",
    "        cities.append(city)\n",
    "\n",
    "# Print the city count to confirm sufficient count\n",
    "len(cities)"
   ]
  },
  {
   "cell_type": "markdown",
   "metadata": {},
   "source": [
    "## Perform API Calls"
   ]
  },
  {
   "cell_type": "code",
   "execution_count": 39,
   "metadata": {},
   "outputs": [
    {
     "name": "stdout",
     "output_type": "stream",
     "text": [
      "taolanaro not found.\n",
      "mys shmidta not found.\n",
      "amderma not found.\n",
      "illoqqortoormiut not found.\n",
      "amparai not found.\n",
      "barentsburg not found.\n",
      "chokwe not found.\n",
      "belushya guba not found.\n",
      "kazalinsk not found.\n",
      "nizhneyansk not found.\n",
      "samusu not found.\n",
      "sogdiondon not found.\n",
      "kuala krai not found.\n",
      "kobojango not found.\n",
      "dzhusaly not found.\n",
      "attawapiskat not found.\n",
      "domoni not found.\n",
      "mustafakemalpasa not found.\n",
      "kadykchan not found.\n",
      "meyungs not found.\n",
      "halalo not found.\n",
      "odweyne not found.\n",
      "karamay not found.\n",
      "utiroa not found.\n",
      "toliary not found.\n",
      "balimo not found.\n",
      "qui nhon not found.\n",
      "tlahualilo not found.\n",
      "vaitupu not found.\n",
      "palabuhanratu not found.\n",
      "tsihombe not found.\n",
      "chagda not found.\n",
      "kawana waters not found.\n",
      "falealupo not found.\n",
      "bengkulu not found.\n",
      "armacao dos buzios not found.\n",
      "kyra not found.\n",
      "saleaula not found.\n",
      "karauzyak not found.\n",
      "maghama not found.\n",
      "marcona not found.\n",
      "grand river south east not found.\n",
      "sentyabrskiy not found.\n",
      "cheuskiny not found.\n",
      "acarau not found.\n",
      "karakendzha not found.\n",
      "navapur not found.\n",
      "yanan not found.\n"
     ]
    }
   ],
   "source": [
    "# OpenWeatherMap API Key\n",
    "api_key = api_keys.api_key\n",
    "\n",
    "# Starting URL for Weather Map API Call\n",
    "base_url = \"http://api.openweathermap.org/data/2.5/weather?units=Imperial&APPID=\" + api_key \n",
    "\n",
    "# Initialize pandas data frame with cities array\n",
    "cities_df = pd.DataFrame(columns=['City','Lat','Long','Temp','Humidity','Cloudiness','Wind Speed'])\n",
    "cities_df['City'] = cities\n",
    "\n",
    "# Build cities data frame\n",
    "for index,row in cities_df.iterrows():\n",
    "    \n",
    "    # Add city to url\n",
    "    url = base_url + \"&q=\" + row['City']\n",
    "    \n",
    "    # API response  \n",
    "    try:\n",
    "        response = requests.get(url).json()\n",
    "        cities_df.loc[index,'Lat'] = response['coord']['lat'] \n",
    "        cities_df.loc[index,'Long'] = response['coord']['lon'] \n",
    "        cities_df.loc[index,'Temp'] = response['main']['temp'] \n",
    "        cities_df.loc[index,'Humidity'] = response['main']['humidity'] \n",
    "        cities_df.loc[index,'Cloudiness'] = response['clouds']['all'] \n",
    "        cities_df.loc[index,'Wind Speed'] = response['wind']['speed']\n",
    "    except:\n",
    "       print(f\"{row['City']} not found.\")\n",
    "              "
   ]
  },
  {
   "cell_type": "code",
   "execution_count": 40,
   "metadata": {},
   "outputs": [
    {
     "data": {
      "text/html": [
       "<div>\n",
       "<style scoped>\n",
       "    .dataframe tbody tr th:only-of-type {\n",
       "        vertical-align: middle;\n",
       "    }\n",
       "\n",
       "    .dataframe tbody tr th {\n",
       "        vertical-align: top;\n",
       "    }\n",
       "\n",
       "    .dataframe thead th {\n",
       "        text-align: right;\n",
       "    }\n",
       "</style>\n",
       "<table border=\"1\" class=\"dataframe\">\n",
       "  <thead>\n",
       "    <tr style=\"text-align: right;\">\n",
       "      <th></th>\n",
       "      <th>City</th>\n",
       "      <th>Lat</th>\n",
       "      <th>Long</th>\n",
       "      <th>Temp</th>\n",
       "      <th>Humidity</th>\n",
       "      <th>Cloudiness</th>\n",
       "      <th>Wind Speed</th>\n",
       "    </tr>\n",
       "  </thead>\n",
       "  <tbody>\n",
       "    <tr>\n",
       "      <th>0</th>\n",
       "      <td>hobart</td>\n",
       "      <td>-42.88</td>\n",
       "      <td>147.33</td>\n",
       "      <td>46.4</td>\n",
       "      <td>65</td>\n",
       "      <td>75</td>\n",
       "      <td>3.36</td>\n",
       "    </tr>\n",
       "    <tr>\n",
       "      <th>1</th>\n",
       "      <td>ocos</td>\n",
       "      <td>14.51</td>\n",
       "      <td>-92.19</td>\n",
       "      <td>93.2</td>\n",
       "      <td>46</td>\n",
       "      <td>40</td>\n",
       "      <td>6.93</td>\n",
       "    </tr>\n",
       "    <tr>\n",
       "      <th>2</th>\n",
       "      <td>hami</td>\n",
       "      <td>42.84</td>\n",
       "      <td>93.51</td>\n",
       "      <td>64.97</td>\n",
       "      <td>48</td>\n",
       "      <td>0</td>\n",
       "      <td>1.48</td>\n",
       "    </tr>\n",
       "    <tr>\n",
       "      <th>3</th>\n",
       "      <td>platteville</td>\n",
       "      <td>42.73</td>\n",
       "      <td>-90.48</td>\n",
       "      <td>70.99</td>\n",
       "      <td>100</td>\n",
       "      <td>90</td>\n",
       "      <td>12.75</td>\n",
       "    </tr>\n",
       "    <tr>\n",
       "      <th>4</th>\n",
       "      <td>port elizabeth</td>\n",
       "      <td>39.31</td>\n",
       "      <td>-74.98</td>\n",
       "      <td>75.49</td>\n",
       "      <td>69</td>\n",
       "      <td>90</td>\n",
       "      <td>9.17</td>\n",
       "    </tr>\n",
       "  </tbody>\n",
       "</table>\n",
       "</div>"
      ],
      "text/plain": [
       "             City    Lat    Long   Temp Humidity Cloudiness Wind Speed\n",
       "0          hobart -42.88  147.33   46.4       65         75       3.36\n",
       "1            ocos  14.51  -92.19   93.2       46         40       6.93\n",
       "2            hami  42.84   93.51  64.97       48          0       1.48\n",
       "3     platteville  42.73  -90.48  70.99      100         90      12.75\n",
       "4  port elizabeth  39.31  -74.98  75.49       69         90       9.17"
      ]
     },
     "execution_count": 40,
     "metadata": {},
     "output_type": "execute_result"
    }
   ],
   "source": [
    "cities_df.head()"
   ]
  },
  {
   "cell_type": "code",
   "execution_count": 43,
   "metadata": {},
   "outputs": [
    {
     "data": {
      "text/plain": [
       "<matplotlib.axes._subplots.AxesSubplot at 0x24a5bbd8518>"
      ]
     },
     "execution_count": 43,
     "metadata": {},
     "output_type": "execute_result"
    },
    {
     "data": {
      "image/png": "[encoded data removed]",
      "text/plain": [
       "<Figure size 432x288 with 1 Axes>"
      ]
     },
     "metadata": {},
     "output_type": "display_data"
    }
   ],
   "source": [
    "# Convert columns to numeric\n",
    "cities_df['Lat'] = pd.to_numeric(cities_df['Lat'])\n",
    "cities_df['Temp'] = pd.to_numeric(cities_df['Temp'])\n",
    "cities_df.plot(kind='scatter',x='Lat',y='Temp')"
   ]
  },
  {
   "cell_type": "code",
   "execution_count": null,
   "metadata": {},
   "outputs": [],
   "source": []
  }
 ],
 "metadata": {
  "anaconda-cloud": {},
  "kernelspec": {
   "display_name": "Python 3",
   "language": "python",
   "name": "python3"
  },
  "language_info": {
   "codemirror_mode": {
    "name": "ipython",
    "version": 3
   },
   "file_extension": ".py",
   "mimetype": "text/x-python",
   "name": "python",
   "nbconvert_exporter": "python",
   "pygments_lexer": "ipython3",
   "version": "3.6.4"
  }
 },
 "nbformat": 4,
 "nbformat_minor": 2
}
