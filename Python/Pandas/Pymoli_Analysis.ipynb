{
 "cells": [
  {
   "cell_type": "markdown",
   "metadata": {},
   "source": [
    "# Pymoli Summary\n",
    "* The majority of HoP players are male. Female players, however, tend to spend $0.18 more on average than their male counterparts\n",
    "* Players between the ages of 20 and 24 are the Pymoli's largest source of revenue\n"
   ]
  },
  {
   "cell_type": "code",
   "execution_count": null,
   "metadata": {},
   "outputs": [],
   "source": [
    "# Import dependencies \n",
    "import pandas as pd\n",
    "import numpy as np\n",
    "import matplotlib.pyplot as plt"
   ]
  },
  {
   "cell_type": "code",
   "execution_count": null,
   "metadata": {},
   "outputs": [],
   "source": [
    "# Declare purchase_data.csv as file\n",
    "file = \"purchase_data.csv\""
   ]
  },
  {
   "cell_type": "code",
   "execution_count": null,
   "metadata": {},
   "outputs": [],
   "source": [
    "# Load purchase data into data frame and view first five entries\n",
    "data_df = pd.read_csv(file)\n",
    "data_df.head()"
   ]
  },
  {
   "cell_type": "code",
   "execution_count": null,
   "metadata": {},
   "outputs": [],
   "source": [
    "# Total HoP players\n",
    "player_count = data_df['SN'].value_counts().size\n",
    "player_count"
   ]
  },
  {
   "cell_type": "code",
   "execution_count": null,
   "metadata": {},
   "outputs": [],
   "source": [
    "# Purchasing analysis (total)\n",
    "unique_item_count = data_df['Item ID'].value_counts().size\n",
    "avg_purchase_price = '${:,.2f}'.format(data_df['Price'].mean())\n",
    "total_purchases = data_df.count()[0]\n",
    "total_revenue = '${:,.2f}'.format(data_df['Price'].sum())\n",
    "\n",
    "purchasing_analysis_df = pd.DataFrame({'Number of Unique Items':unique_item_count,\n",
    "                                       'Average Purchase Price':avg_purchase_price,\n",
    "                                       'Total Purchases':total_purchases,\n",
    "                                       'Total Revenue':total_revenue},index=['Values'])\n",
    "purchasing_analysis_df\n"
   ]
  },
  {
   "cell_type": "code",
   "execution_count": null,
   "metadata": {},
   "outputs": [],
   "source": [
    "# Gender Demographics\n",
    "gender = data_df.groupby('Gender')['SN'].unique()\n",
    "females = gender['Female'].size\n",
    "males = gender['Male'].size\n",
    "non_disclosed = gender['Other / Non-Disclosed'].size\n",
    "\n",
    "percentages = ['{:.2f}'.format(100*males/player_count)+'%',\n",
    "               '{:.2f}'.format(100*females/player_count)+'%',\n",
    "               '{:.2f}'.format(100*non_disclosed/player_count)+'%']\n",
    "\n",
    "demographic_dict = {'Percentage of Players':percentages,\n",
    "                    'Total':[males,females,non_disclosed]}\n",
    "\n",
    "demographics_df = pd.DataFrame(demographic_dict,index=['Males','Females','Other/Non-Disclosed'])\n",
    "demographics_df"
   ]
  },
  {
   "cell_type": "code",
   "execution_count": null,
   "metadata": {},
   "outputs": [],
   "source": [
    "# Purchasing Analysis by Gender\n",
    "male_purchase_count = data_df.loc[data_df['Gender']=='Male','Purchase ID'].count()\n",
    "male_total_purchase_value = data_df.loc[data_df['Gender']=='Male','Price'].sum()\n",
    "male_avg_purchase_price = male_total_purchase_value/male_purchase_count\n",
    "male_avg_purchase_total_per_person = male_total_purchase_value/males\n",
    "\n",
    "female_purchase_count = data_df.loc[data_df['Gender']=='Female','Purchase ID'].count()\n",
    "female_total_purchase_value = data_df.loc[data_df['Gender']=='Female','Price'].sum()\n",
    "female_avg_purchase_price = female_total_purchase_value/female_purchase_count\n",
    "female_avg_purchase_total_per_person = female_total_purchase_value/females\n",
    "\n",
    "non_disclosed_purchase_count = data_df.loc[data_df['Gender']=='Other / Non-Disclosed']['Purchase ID'].count()\n",
    "non_disclosed_total_purchase_value = data_df.loc[data_df['Gender']=='Other / Non-Disclosed']['Price'].sum()\n",
    "non_disclosed_avg_purchase_price = non_disclosed_total_purchase_value/non_disclosed_purchase_count\n",
    "non_disclosed_avg_purchase_total_per_person = non_disclosed_total_purchase_value/non_disclosed\n",
    "\n",
    "purchase_dict = {'Number of Purchases':[male_purchase_count,female_purchase_count,non_disclosed_purchase_count],\n",
    "                 'Average Purchase Price':['${:,.2f}'.format(male_avg_purchase_price),'${:,.2f}'.format(female_avg_purchase_price),'${:,.2f}'.format(non_disclosed_avg_purchase_price)],\n",
    "                 'Total Purchase Value':['${:,.2f}'.format(male_total_purchase_value),'${:,.2f}'.format(female_total_purchase_value),'${:,.2f}'.format(non_disclosed_total_purchase_value)],\n",
    "                 'Average Purchase Total per Person by Gender':['${:,.2f}'.format(male_avg_purchase_total_per_person),'${:,.2f}'.format(female_avg_purchase_total_per_person),'${:,.2f}'.format(non_disclosed_avg_purchase_total_per_person)]\n",
    "                }\n",
    "\n",
    "gender_purchasing_df = pd.DataFrame(purchase_dict,index=['Males','Females','Other/Non-Disclosed'])\n",
    "gender_purchasing_df"
   ]
  },
  {
   "cell_type": "code",
   "execution_count": null,
   "metadata": {},
   "outputs": [],
   "source": [
    "# Age Demographics\n",
    "bins = [0, 9.90, 14.90, 19.90, 24.90, 29.90, 34.90, 39.90, 99999]\n",
    "age_groups = [\"<10\", \"10-14\", \"15-19\", \"20-24\", \"25-29\", \"30-34\", \"35-39\", \"40+\"]\n",
    "data_df['Age Group'] = pd.cut(data_df['Age'],bins,right=True,labels=age_groups)\n",
    "age_demographics_df = data_df.drop_duplicates('SN',keep='first')\n",
    "\n",
    "player_count_by_age = age_demographics_df.groupby('Age Group')['SN'].count()\n",
    "player_percentage_by_age = (player_count_by_age/player_count).map(\"{:.2%}\".format)\n",
    "\n",
    "age_demographics_df = pd.DataFrame({'Percentage of Players':player_percentage_by_age,\n",
    "                                    'Total Count':player_count_by_age})\n",
    "age_demographics_df"
   ]
  },
  {
   "cell_type": "code",
   "execution_count": null,
   "metadata": {},
   "outputs": [],
   "source": [
    "# Purchasing Analysis by Age\n",
    "min_age = data_df['Age'].min()\n",
    "max_age = data_df['Age'].max()\n",
    "data_df['Age Group'] = pd.cut(data_df['Age'],bins,right=True,labels=age_groups)\n",
    "\n",
    "age_purchase_count = data_df.groupby('Age Group')['Purchase ID'].count()\n",
    "age_purchase_total = data_df.groupby('Age Group')['Price'].sum()\n",
    "age_avg_purchase_value = age_purchase_total/age_purchase_count\n",
    "\n",
    "age_purchasing_df = pd.DataFrame({'Number of Purchases':age_purchase_count,\n",
    "                                  'Average Purchase Price':age_avg_purchase_value.map(\"${:,.2f}\".format),\n",
    "                                  'Total Purchase Value':age_purchase_total.map(\"${:,.2f}\".format)\n",
    "                                  })\n",
    "\n",
    "age_purchasing_df"
   ]
  },
  {
   "cell_type": "code",
   "execution_count": null,
   "metadata": {},
   "outputs": [],
   "source": [
    "# Top Spenders\n",
    "top_5_spenders = data_df.groupby('SN')['Price'].sum().sort_values(ascending=False).index[0:5]\n",
    "top_5_spenders_df = data_df.loc[data_df['SN'].isin(top_5_spenders)]\n",
    "purchase_count = top_5_spenders_df.groupby('SN')['Purchase ID'].count()\n",
    "total_purchase_value = top_5_spenders_df.groupby('SN')['Price'].sum()\n",
    "avg_purchase_value = total_purchase_value/purchase_count\n",
    "pd.DataFrame({'Number of Purchases':purchase_count,\n",
    "              'Average Purchase Price':avg_purchase_value.map(\"${:,.2f}\".format),\n",
    "              'Total Purchase Value':total_purchase_value.map(\"${:,.2f}\".format)\n",
    "             }).sort_values(by='Total Purchase Value',ascending=False)"
   ]
  },
  {
   "cell_type": "code",
   "execution_count": null,
   "metadata": {},
   "outputs": [],
   "source": [
    "# Most Popular Items (mp)\n",
    "mp_item_df = data_df.loc[:,['Item Name','Item ID','Price']]\n",
    "mp_item_groupby = data_df.loc[:,['Item Name','Item ID','Price']].groupby(['Item ID','Item Name'])\n",
    "mp_item_count = mp_item_groupby['Price'].count()\n",
    "mp_total_value = mp_item_groupby['Price'].sum()\n",
    "mp_item_df = mp_item_df.drop_duplicates(['Item ID','Item Name','Price'])\n",
    "mp_item_df.set_index(['Item ID','Item Name'], inplace=True)\n",
    "\n",
    "mp_summary_df = pd.DataFrame({'Purchase Count':mp_item_count,\n",
    "                              'Price':mp_item_df.loc[:,'Price'].map(\"${:,.2f}\".format),\n",
    "                              'Total Purchase Value':mp_total_value.map(\"${:,.2f}\".format)})\n",
    "\n",
    "mp_summary_df.sort_values(by='Purchase Count',ascending=False).head()"
   ]
  },
  {
   "cell_type": "code",
   "execution_count": null,
   "metadata": {},
   "outputs": [],
   "source": [
    "# Most Profitable items \n",
    "mp_summary_df = pd.DataFrame({'Purchase Count':mp_item_count,\n",
    "                              'Price':mp_item_df.loc[:,'Price'].map(\"${:,.2f}\".format),\n",
    "                              'Total Purchase Value':mp_total_value})\n",
    "mp_summary_df = mp_summary_df.sort_values(by='Total Purchase Value',ascending=False)\n",
    "mp_summary_df['Total Purchase Value'] = mp_summary_df['Total Purchase Value'].map(\"${:,.2f}\".format)\n",
    "mp_summary_df.head()"
   ]
  },
  {
   "cell_type": "code",
   "execution_count": null,
   "metadata": {},
   "outputs": [],
   "source": []
  }
 ],
 "metadata": {
  "kernelspec": {
   "display_name": "Python 3",
   "language": "python",
   "name": "python3"
  },
  "language_info": {
   "codemirror_mode": {
    "name": "ipython",
    "version": 3
   },
   "file_extension": ".py",
   "mimetype": "text/x-python",
   "name": "python",
   "nbconvert_exporter": "python",
   "pygments_lexer": "ipython3",
   "version": "3.6.4"
  }
 },
 "nbformat": 4,
 "nbformat_minor": 2
}
